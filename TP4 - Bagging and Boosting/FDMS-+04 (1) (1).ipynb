{
 "cells": [
  {
   "cell_type": "code",
   "execution_count": 488,
   "metadata": {
    "scrolled": true
   },
   "outputs": [
    {
     "name": "stderr",
     "output_type": "stream",
     "text": [
      "/Library/Frameworks/Python.framework/Versions/3.6/lib/python3.6/site-packages/sklearn/model_selection/_split.py:2010: FutureWarning: From version 0.21, test_size will always complement train_size unless both are specified.\n",
      "  FutureWarning)\n"
     ]
    }
   ],
   "source": [
    "#Chargement des données, classe binaire\n",
    "import numpy as np\n",
    "import random\n",
    "import pandas as pd\n",
    "from sklearn.model_selection import train_test_split\n",
    "import copy\n",
    "from sklearn.tree import DecisionTreeRegressor\n",
    "import matplotlib.pyplot as plt\n",
    "from sklearn import tree\n",
    "from sklearn import datasets\n",
    "from sklearn.model_selection import train_test_split, GridSearchCV\n",
    "\n",
    "   \n",
    "def read_libsvm(fname):\n",
    "    with open(fname) as f:\n",
    "        x,y  =list(),list()\n",
    "        for l in f:\n",
    "            line = l.strip().split(\" \")\n",
    "            y.append(int(line[0]))\n",
    "            x.append([float(s.split(\":\")[1]) for s in line[1:]])\n",
    "    return np.array(y),np.array(x);\n",
    "\n",
    "data= read_libsvm('/users/melkigabriel/Downloads/australian_data.txt')\n",
    "\n",
    "data= data[0],data[1][:,3:6]\n",
    "\n",
    "\n",
    "x_train, x_test,y_train, y_test = train_test_split(data[1], data[0],train_size=0.4)\n",
    "\n"
   ]
  },
  {
   "cell_type": "markdown",
   "metadata": {},
   "source": [
    "# Question1\n",
    "Créons la class bagging.\n",
    "Dans init, on rentre les paramètres et on fit. \n",
    "Puis on l'utilise avec predict\n"
   ]
  },
  {
   "cell_type": "code",
   "execution_count": 489,
   "metadata": {
    "collapsed": true
   },
   "outputs": [],
   "source": [
    "\n",
    "from sklearn.utils import resample\n",
    "\n",
    "class bagging:\n",
    "    def __init__(self,nbClassifieurs,x,y,typeClassifieur,profondeur,taille_de_sample):\n",
    "        \n",
    "        dataset =np.concatenate((x_train,y_train.reshape(len(x_train),1)),axis=1)\n",
    "        \n",
    "        if(typeClassifieur=='arbre'):\n",
    "            ensembleClassifieurs=dict()\n",
    "            for k in range(0,nbClassifieurs):\n",
    "                dataset_loop = resample(dataset,n_samples=int(len(x_train)*taille_de_sample),replace=True) #C'est là que s'opère le bootstrap\n",
    "                \n",
    "                regr_loop = tree.DecisionTreeClassifier(max_depth=profondeur)\n",
    "                regr_loop.fit(dataset_loop[:,0:len(x[0])],dataset_loop[:,len(x[0])])\n",
    "                ensembleClassifieurs[k]=regr_loop \n",
    "            self.models = ensembleClassifieurs\n",
    "    \n",
    "    def predict(self,entree):\n",
    "        votes=dict()\n",
    "        for k in range(0,len(self.models)):\n",
    "            vote=int(self.models[k].predict(entree.reshape(1, len(entree))))\n",
    "            if vote in votes.keys():\n",
    "                votes[vote]+=1\n",
    "            else:\n",
    "                votes[vote]=1\n",
    "        #print(votes)\n",
    "        return(max(votes, key=votes.get));\n"
   ]
  },
  {
   "cell_type": "markdown",
   "metadata": {},
   "source": [
    "# Question 2"
   ]
  },
  {
   "cell_type": "code",
   "execution_count": 490,
   "metadata": {},
   "outputs": [
    {
     "data": {
      "text/plain": [
       "DecisionTreeClassifier(class_weight=None, criterion='gini', max_depth=1,\n",
       "            max_features=None, max_leaf_nodes=None,\n",
       "            min_impurity_decrease=0.0, min_impurity_split=None,\n",
       "            min_samples_leaf=1, min_samples_split=2,\n",
       "            min_weight_fraction_leaf=0.0, presort=False, random_state=None,\n",
       "            splitter='best')"
      ]
     },
     "execution_count": 490,
     "metadata": {},
     "output_type": "execute_result"
    }
   ],
   "source": [
    "bagging_1= bagging(nbClassifieurs=6 , x=x_train , y=y_train,typeClassifieur='arbre',profondeur=1,taille_de_sample=0.3)\n",
    "\n",
    "one_tree =tree.DecisionTreeClassifier(max_depth=1)\n",
    "one_tree.fit(x_train,y_train)\n"
   ]
  },
  {
   "cell_type": "code",
   "execution_count": 491,
   "metadata": {},
   "outputs": [
    {
     "name": "stdout",
     "output_type": "stream",
     "text": [
      "L'accuracy du tree en train est de 0.6449 ==  L'accuracy du tree en test est de 0.6377\n",
      "L'accuracy du bagging en train est de 0.6449 ==  L'accuracy du baggin en test est de 0.6401\n"
     ]
    }
   ],
   "source": [
    "accuracy_bagg_train=0.0\n",
    "accuracy_bagg_test =0.0\n",
    "accuracy_tree_train=0.0\n",
    "accuracy_tree_test =0.0\n",
    "\n",
    "for j in range(0,len(x_test)):\n",
    "    accuracy_tree_test += 1*(float(one_tree.predict(x_test[j].reshape(1,len(x_test[j])))==y_test[j]))/len(x_test)\n",
    "    accuracy_bagg_test += 1*(bagging_1.predict(x_test[j])==y_test[j])/len(x_test)\n",
    "    \n",
    "for k in range(0,len(x_train)):\n",
    "    accuracy_tree_train += 1*(float(one_tree.predict(x_train[k].reshape(1,len(x_train[k])))==y_train[k]))/len(x_train)\n",
    "    accuracy_bagg_train += 1*(bagging_1.predict(x_train[k])==y_train[k])/len(x_train)\n",
    "\n",
    "print(\"L'accuracy du tree en train est de \"+str(round(accuracy_tree_train,4))+\" ==  L'accuracy du tree en test est de \" +str(round(accuracy_tree_test,4)))\n",
    "\n",
    "print(\"L'accuracy du bagging en train est de \"+str(round(accuracy_bagg_train,4))+\" ==  L'accuracy du baggin en test est de \" +str(round(accuracy_bagg_test,4)))\n"
   ]
  },
  {
   "cell_type": "markdown",
   "metadata": {},
   "source": [
    "# Question 3"
   ]
  },
  {
   "cell_type": "markdown",
   "metadata": {},
   "source": [
    "Nous sommes dans les hypothèses demandées: l'arbre est est un classifieur faible, il donne une accuracy légèrement supérieure à 50%. \n",
    "La taille du sample pour le bagging a une influence. En utilisant une taille de 40%, on arrive à induire une randomisation qui augmente l''accuracy en bagging. \n",
    "Toutefois, les résultats pour le bagging ne sont pas stables. Le bootstrap induit une volatilité assez grande dans les résultats. Y a-t-il un moyen de contourner cela?"
   ]
  },
  {
   "cell_type": "markdown",
   "metadata": {
    "collapsed": true
   },
   "source": [
    "# Exercice 2- Question 1\n",
    "Annulons la dédrivée du risque empirique par rapport à alpha(t). Et on trouve le bon coeff. "
   ]
  },
  {
   "cell_type": "markdown",
   "metadata": {},
   "source": [
    "# Question 2"
   ]
  },
  {
   "cell_type": "code",
   "execution_count": 492,
   "metadata": {
    "collapsed": true
   },
   "outputs": [],
   "source": [
    "#pratique pour plus tard\n",
    "def accuracy(model,poids,x_test,y_test):\n",
    "    accuracy=0  \n",
    "    for j in range(0,len(x_test)):\n",
    "        accuracy += poids[j]*(model.predict(x_test[j].reshape(1,len(x_test[j])))==y_test[j])\n",
    "    return(accuracy)\n"
   ]
  },
  {
   "cell_type": "code",
   "execution_count": 516,
   "metadata": {
    "collapsed": true
   },
   "outputs": [],
   "source": [
    "import math\n",
    "\n",
    "class Adaboost:\n",
    "    def __init__(self,x,y,T,profondeur):\n",
    "        self.m=len(x)\n",
    "        self.T = T\n",
    "        self.clf = tree.DecisionTreeClassifier(max_depth=profondeur)\n",
    "        self.clf = self.clf.fit(x, y)\n",
    "\n",
    "        self.classifier =[]\n",
    "        self.classifier.append(self.clf)\n",
    "\n",
    "        self.epsilon= np.zeros(self.T)\n",
    "        self.alpha= np.zeros(self.T)\n",
    "        self.D=np.zeros((self.T,self.m))\n",
    "        self.D[0].fill(1/self.m)\n",
    "\n",
    "        self.epsilon[0]= 1-accuracy(self.clf,self.D[0],x,y)\n",
    "        self.alpha[0]==0.5*math.log(1/self.epsilon[0]-1)\n",
    "        for t in range(1,self.T):\n",
    "            for k in range(0,self.m):\n",
    "                self.D[t][k]=self.D[t-1][k]*math.exp(-self.alpha[t-1]*(y[k]==self.classifier[t-1].predict(x[k].reshape(1,len(x[0])))))\n",
    "            self.D[t]/=sum(self.D[t])\n",
    "            classifier_loop = tree.DecisionTreeClassifier(max_depth=profondeur)\n",
    "            classifier_loop = classifier_loop.fit(x, y, sample_weight = self.D[t])\n",
    "            self.classifier.append(classifier_loop)\n",
    "            self.epsilon[t]=1- accuracy(classifier_loop,self.D[t],x,y)\n",
    "            self.alpha[t]=0.5*math.log(1/self.epsilon[t]-1);\n",
    "        \n",
    "    def predict(self,x1):\n",
    "        dd= sum(self.alpha[t]*self.classifier[t].predict(x1.reshape(1,len(x1))) for t in range(0,self.T))\n",
    "        if(dd==0): return(np.sign(np.random.uniform(-1,1)))\n",
    "        else: return(int(np.sign(dd )))"
   ]
  },
  {
   "cell_type": "code",
   "execution_count": null,
   "metadata": {
    "collapsed": true
   },
   "outputs": [],
   "source": [
    "    "
   ]
  },
  {
   "cell_type": "code",
   "execution_count": null,
   "metadata": {
    "collapsed": true
   },
   "outputs": [],
   "source": []
  },
  {
   "cell_type": "code",
   "execution_count": null,
   "metadata": {
    "collapsed": true
   },
   "outputs": [],
   "source": []
  },
  {
   "cell_type": "markdown",
   "metadata": {
    "collapsed": true
   },
   "source": [
    "# Question 3 "
   ]
  },
  {
   "cell_type": "markdown",
   "metadata": {},
   "source": [
    "\n",
    "Pour éviter ce problème de poids dans le classifier, on entraine un arbre sur un dataset modifié. Le  nouveau dataset fait apparaitre plus de fois les observations qui ont un poids fort dans D[t]. \n",
    "Il faut mettre des poids entiers, donc modifier D(t). Puisque que tous les poids D sont inférieur à 1, on diviser par le min(D) l'ensemble du dataset et arrondir pour arriver à un new_D rempli d'entiers.\n",
    "On crée alors une nouveau dataset qui recopie chaque x_train[i] plusieurs fois, new_D[i] fois. Et ensuite, entrainer notre new_clf sur ce nouveau dataset."
   ]
  },
  {
   "cell_type": "code",
   "execution_count": 517,
   "metadata": {},
   "outputs": [
    {
     "data": {
      "text/plain": [
       "DecisionTreeClassifier(class_weight=None, criterion='gini', max_depth=2,\n",
       "            max_features=None, max_leaf_nodes=None,\n",
       "            min_impurity_decrease=0.0, min_impurity_split=None,\n",
       "            min_samples_leaf=1, min_samples_split=2,\n",
       "            min_weight_fraction_leaf=0.0, presort=False, random_state=None,\n",
       "            splitter='best')"
      ]
     },
     "execution_count": 517,
     "metadata": {},
     "output_type": "execute_result"
    }
   ],
   "source": [
    "from itertools import repeat\n",
    "\n",
    "D= np.ones(len(y_train))\n",
    "for k in range(len(y_train)):\n",
    "    D[k]*=random.uniform(0,0.05)\n",
    "\n",
    "\n",
    "new_D = D/min(D)\n",
    "for k in range(len(y_train)):\n",
    "    new_D[k] = int(new_D[k])\n",
    "\n",
    "new_dataset_x = []\n",
    "new_dataset_y = []\n",
    "for i in range(len(x_train)):\n",
    "    for k in repeat(x_train[i],int(new_D[i])):\n",
    "        new_dataset_x.append(k)\n",
    "    for k in repeat(y_train[i],int(new_D[i])):\n",
    "        new_dataset_y.append(k)\n",
    "\n",
    "regr_ada =tree.DecisionTreeClassifier(max_depth=2)\n",
    "regr_ada.fit(new_dataset_x,new_dataset_y)  \n",
    "\n",
    "#Et on pourrait répéter cela pour tous les classifieurs à chaque itération !"
   ]
  },
  {
   "cell_type": "markdown",
   "metadata": {},
   "source": [
    "# Question 4"
   ]
  },
  {
   "cell_type": "code",
   "execution_count": 527,
   "metadata": {},
   "outputs": [
    {
     "name": "stdout",
     "output_type": "stream",
     "text": [
      "L'accuracy du adaboost en train est de 0.6848 ==  L'accuracy du adaboost en test est de 0.6329\n"
     ]
    }
   ],
   "source": [
    "test_adaboost= Adaboost(x=x_train,y=y_train,T=5,profondeur=1)\n",
    "\n",
    "accuracy_adaboost_test=0.0\n",
    "accuracy_adaboost_train=0.0\n",
    "for k in range(len(x_test)):\n",
    "    accuracy_adaboost_test += 1*(test_adaboost.predict(x_test[k])==y_test[k])/len(x_test) \n",
    "\n",
    "for i in range(len(x_train)):\n",
    "    accuracy_adaboost_train += 1*(test_adaboost.predict(x_train[i])==y_train[i])/len(x_train) \n",
    "\n",
    "print(\"L'accuracy du adaboost en train est de \"+str(round(accuracy_adaboost_train,4))+\" ==  L'accuracy du adaboost en test est de \" +str(round(accuracy_adaboost_test,4)))\n"
   ]
  },
  {
   "cell_type": "code",
   "execution_count": null,
   "metadata": {},
   "outputs": [],
   "source": []
  },
  {
   "cell_type": "markdown",
   "metadata": {},
   "source": [
    "# Question 5"
   ]
  },
  {
   "cell_type": "code",
   "execution_count": 528,
   "metadata": {},
   "outputs": [
    {
     "data": {
      "image/png": "[encoded data removed]",
      "text/plain": [
       "<matplotlib.figure.Figure at 0x10dad3b00>"
      ]
     },
     "metadata": {},
     "output_type": "display_data"
    }
   ],
   "source": [
    "adaboost=dict()\n",
    "D=np.ones(len(x_train))/len(x_train)\n",
    "to_plot_adaboost_test=np.zeros(40)\n",
    "to_plot_adaboost_train=np.zeros(40)\n",
    "\n",
    "for i in range(1,41):\n",
    "    adaboost[i]=Adaboost(x_train,y_train,i,1)\n",
    "    for k in range(len(x_test)):\n",
    "        to_plot_adaboost_test[i-1] += 1*(adaboost[i].predict(x_test[k])!=y_test[k]) \n",
    "    to_plot_adaboost_test[i-1]/= len(x_test)\n",
    "    \n",
    "    for p in range(len(x_train)):\n",
    "        to_plot_adaboost_train[i-1] += 1*(adaboost[i].predict(x_train[p])!=y_train[p]) \n",
    "    to_plot_adaboost_train[i-1]/= len(x_train)\n",
    "    \n",
    "import matplotlib.pyplot as plt\n",
    "plt.plot(to_plot_adaboost_test)\n",
    "plt.plot(to_plot_adaboost_train)\n",
    "plt.show()"
   ]
  },
  {
   "cell_type": "markdown",
   "metadata": {},
   "source": [
    "# Question 6"
   ]
  },
  {
   "cell_type": "code",
   "execution_count": 534,
   "metadata": {},
   "outputs": [
    {
     "name": "stdout",
     "output_type": "stream",
     "text": [
      "0.0652173913043 0.0289855072464 0.0253623188406\n"
     ]
    }
   ],
   "source": [
    "#Reprenons test_adaboost = Adaboost(x=x_train,y=y_train,T=100,profondeur=1) et regardons le dernier D Regardons alors 'i\n",
    "D_last=test_adaboost.D[4]\n",
    "\n",
    "most_difficult = np.where(D_last>np.percentile(D_last,50))\n",
    "ada = 0.0\n",
    "bag= 0.0\n",
    "tre= 0.0\n",
    "for i in most_difficult[0]:\n",
    "    ada += 1*(test_adaboost.predict(x_train[i])==y_train[i])/len(x_train)\n",
    "    bag += 1*(bagging_1.predict(x_train[i])==y_train[i])/len(x_train)\n",
    "    tre += 1*(int(one_tree.predict(x_train[i].reshape(1,3)))==y_train[i])/len(x_train)\n",
    "print(ada,bag,tre)"
   ]
  },
  {
   "cell_type": "markdown",
   "metadata": {
    "collapsed": true
   },
   "source": [
    "Sur l'ensemble des points les plus difficiles à classer, L'adaboost marche mieux que le bagging ou que l'arbre."
   ]
  },
  {
   "cell_type": "markdown",
   "metadata": {},
   "source": [
    "# Question 7"
   ]
  },
  {
   "cell_type": "code",
   "execution_count": 535,
   "metadata": {},
   "outputs": [
    {
     "data": {
      "image/png": "[encoded data removed]",
      "text/plain": [
       "<matplotlib.figure.Figure at 0x10c1e9e80>"
      ]
     },
     "metadata": {},
     "output_type": "display_data"
    },
    {
     "data": {
      "image/png": "[encoded data removed]",
      "text/plain": [
       "<matplotlib.figure.Figure at 0x10be79fd0>"
      ]
     },
     "metadata": {},
     "output_type": "display_data"
    }
   ],
   "source": [
    "adaboost_profondeur=dict()\n",
    "D=np.ones(len(x_train))/len(x_train)\n",
    "to_plot_adaboost_test=np.zeros(29)\n",
    "to_plot_adaboost_train=np.zeros(29)\n",
    "\n",
    "for i in range(1,30):\n",
    "    adaboost_profondeur[i]=Adaboost(x_train,y_train,20,i)\n",
    "    for k in range(len(x_test)):\n",
    "        to_plot_adaboost_test[i-1] += 1*(adaboost_profondeur[i].predict(x_test[k])!=y_test[k]) \n",
    "    to_plot_adaboost_test[i-1]/= len(x_test)\n",
    "    \n",
    "    for p in range(len(x_train)):\n",
    "        to_plot_adaboost_train[i-1] += 1*(adaboost_profondeur[i].predict(x_train[p])!=y_train[p]) \n",
    "    to_plot_adaboost_train[i-1]/= len(x_train)\n",
    "\n",
    "import matplotlib.pyplot as plt\n",
    "plt.plot(to_plot_adaboost_test,'b')\n",
    "plt.show()\n",
    "plt.plot(to_plot_adaboost_train,'r')\n",
    "plt.show()"
   ]
  },
  {
   "cell_type": "code",
   "execution_count": 536,
   "metadata": {
    "collapsed": true
   },
   "outputs": [],
   "source": [
    "#la généralisation se passe mal lorsque l'on augmente la taille des arbres. Il y a clairement du surapprentissage!"
   ]
  },
  {
   "cell_type": "code",
   "execution_count": null,
   "metadata": {
    "collapsed": true
   },
   "outputs": [],
   "source": []
  },
  {
   "cell_type": "code",
   "execution_count": null,
   "metadata": {
    "collapsed": true
   },
   "outputs": [],
   "source": []
  },
  {
   "cell_type": "code",
   "execution_count": null,
   "metadata": {
    "collapsed": true
   },
   "outputs": [],
   "source": []
  },
  {
   "cell_type": "code",
   "execution_count": null,
   "metadata": {},
   "outputs": [],
   "source": []
  },
  {
   "cell_type": "code",
   "execution_count": null,
   "metadata": {
    "collapsed": true
   },
   "outputs": [],
   "source": []
  }
 ],
 "metadata": {
  "kernelspec": {
   "display_name": "Python 3",
   "language": "python",
   "name": "python3"
  },
  "language_info": {
   "codemirror_mode": {
    "name": "ipython",
    "version": 3
   },
   "file_extension": ".py",
   "mimetype": "text/x-python",
   "name": "python",
   "nbconvert_exporter": "python",
   "pygments_lexer": "ipython3",
   "version": "3.6.4"
  }
 },
 "nbformat": 4,
 "nbformat_minor": 2
}
